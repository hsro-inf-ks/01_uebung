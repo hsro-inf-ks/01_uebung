{
  "cells": [
    {
      "metadata": {
        "collapsed": true
      },
      "cell_type": "markdown",
      "source": "# Training: Titanic data set\n\nWe can also test our K-Means algorithm against the Titanic set, and compare our results to reality and Scikit-Learn's output.\n\n## TASK\n\nUse the k-means class and the Titanic data set to\n\n1. Build some clusters by age, gender or others\n2. Predict with your data if you would survive\n\nBelow you can find some code on how to read in the data from the titanic xls and to create some insigths. In addition the k-means class for clustering."
    },
    {
      "metadata": {
        "trusted": true
      },
      "cell_type": "code",
      "source": "import matplotlib.pyplot as plt\nfrom matplotlib import style\nimport numpy as np\nfrom sklearn import preprocessing, cross_validation\nimport pandas as pd\n\n\n\nclass K_Means:\n    def __init__(self, k=2, tol=0.001, max_iter=300):\n        self.k = k\n        self.tol = tol\n        self.max_iter = max_iter\n\n    def fit(self,data):\n\n        self.centroids = {}\n\n        for i in range(self.k):\n            self.centroids[i] = data[i]\n\n        for i in range(self.max_iter):\n            self.classifications = {}\n\n            for i in range(self.k):\n                self.classifications[i] = []\n\n            for featureset in X:\n                distances = [np.linalg.norm(featureset-self.centroids[centroid]) for centroid in self.centroids]\n                classification = distances.index(min(distances))\n                self.classifications[classification].append(featureset)\n\n            prev_centroids = dict(self.centroids)\n\n            for classification in self.classifications:\n                self.centroids[classification] = np.average(self.classifications[classification],axis=0)\n\n            optimized = True\n\n            for c in self.centroids:\n                original_centroid = prev_centroids[c]\n                current_centroid = self.centroids[c]\n                if np.sum((current_centroid-original_centroid)/original_centroid*100.0) > self.tol:\n                    print(np.sum((current_centroid-original_centroid)/original_centroid*100.0))\n                    optimized = False\n\n            if optimized:\n                break\n\n    def predict(self,data):\n        distances = [np.linalg.norm(data-self.centroids[centroid]) for centroid in self.centroids]\n        classification = distances.index(min(distances))\n        return classification\n\n\ndf = pd.read_excel('titanic.xls')\ndf.drop(['body','name'], 1, inplace=True)\n\n#df.convert_objects(convert_numeric=True)\nprint(df.head())\ndf.fillna(0,inplace=True)\n\ndef handle_non_numerical_data(df):\n    \n    # handling non-numerical data: must convert.\n    columns = df.columns.values\n\n    for column in columns:\n        text_digit_vals = {}\n        def convert_to_int(val):\n            return text_digit_vals[val]\n\n        #print(column,df[column].dtype)\n        if df[column].dtype != np.int64 and df[column].dtype != np.float64:\n            \n            column_contents = df[column].values.tolist()\n            #finding just the uniques\n            unique_elements = set(column_contents)\n            # great, found them. \n            x = 0\n            for unique in unique_elements:\n                if unique not in text_digit_vals:\n                    # creating dict that contains new\n                    # id per unique string\n                    text_digit_vals[unique] = x\n                    x+=1\n            # now we map the new \"id\" vlaue\n            # to replace the string. \n            df[column] = list(map(convert_to_int,df[column]))\n\n    return df\n\ndf = handle_non_numerical_data(df)\nprint(df.head())\n\n# add/remove features just to see impact they have.\ndf.drop(['ticket','home.dest'], 1, inplace=True)\n\n\n",
      "execution_count": 2,
      "outputs": [
        {
          "output_type": "stream",
          "text": "   pclass  survived     sex      age  sibsp  parch  ticket      fare    cabin  \\\n0       1         1  female  29.0000      0      0   24160  211.3375       B5   \n1       1         1    male   0.9167      1      2  113781  151.5500  C22 C26   \n2       1         0  female   2.0000      1      2  113781  151.5500  C22 C26   \n3       1         0    male  30.0000      1      2  113781  151.5500  C22 C26   \n4       1         0  female  25.0000      1      2  113781  151.5500  C22 C26   \n\n  embarked boat                        home.dest  \n0        S    2                     St Louis, MO  \n1        S   11  Montreal, PQ / Chesterville, ON  \n2        S  NaN  Montreal, PQ / Chesterville, ON  \n3        S  NaN  Montreal, PQ / Chesterville, ON  \n4        S  NaN  Montreal, PQ / Chesterville, ON  \n   pclass  survived  sex      age  sibsp  parch  ticket      fare  cabin  \\\n0       1         1    0  29.0000      0      0     743  211.3375     27   \n1       1         1    1   0.9167      1      2     506  151.5500    132   \n2       1         0    0   2.0000      1      2     506  151.5500    132   \n3       1         0    1  30.0000      1      2     506  151.5500    132   \n4       1         0    0  25.0000      1      2     506  151.5500    132   \n\n   embarked  boat  home.dest  \n0         1     1        353  \n1         1    16        187  \n2         1     0        187  \n3         1     0        187  \n4         1     0        187  \n0.7249809014514896\n",
          "name": "stdout"
        }
      ]
    },
    {
      "metadata": {},
      "cell_type": "markdown",
      "source": "# Code snippets\n\nMaybe this might help on how to start:"
    },
    {
      "metadata": {
        "trusted": true
      },
      "cell_type": "code",
      "source": "X = np.array(df.drop(['survived'], 1).astype(float))\nX = preprocessing.scale(X)\ny = np.array(df['survived'])\n\n\nclf = K_Means()\nclf.fit(X)\n\ncorrect = 0\nfor i in range(len(X)):\n\n    predict_me = np.array(X[i].astype(float))\n    predict_me = predict_me.reshape(-1, len(predict_me))\n    prediction = clf.predict(predict_me)\n    if prediction == y[i]:\n        correct += 1\n\n\nprint(correct/len(X))",
      "execution_count": null,
      "outputs": []
    }
  ],
  "metadata": {
    "kernelspec": {
      "name": "python36",
      "display_name": "Python 3.6",
      "language": "python"
    },
    "language_info": {
      "mimetype": "text/x-python",
      "nbconvert_exporter": "python",
      "name": "python",
      "pygments_lexer": "ipython3",
      "version": "3.6.6",
      "file_extension": ".py",
      "codemirror_mode": {
        "version": 3,
        "name": "ipython"
      }
    }
  },
  "nbformat": 4,
  "nbformat_minor": 2
}